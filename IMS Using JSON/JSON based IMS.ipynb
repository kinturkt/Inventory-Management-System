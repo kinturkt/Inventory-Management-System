{
 "cells": [
  {
   "cell_type": "markdown",
   "id": "8f4ecbfc",
   "metadata": {},
   "source": [
    "# Adding products to products dictionary"
   ]
  },
  {
   "cell_type": "code",
   "execution_count": null,
   "id": "80069b39",
   "metadata": {},
   "outputs": [],
   "source": [
    "#ADDING PRODUCTS IN THE PRODUCTS DICTIONARY AND CONVERTING THE CODE TO COMMENTS LINE FOR NOT LOOSING THE DATA AS IN THE FIRST \n",
    "#LINE WE ARE HAVING products = {} WHICH MEANS EMPTY DICTIONARY.\n",
    "\n",
    "#products = {}\n",
    "#for i in range(35) :\n",
    "#    id = int(input(\"Enter prod_id :\"))\n",
    "#    products[id] = {\"name\":input(\"enter product name :\"),\n",
    "#                                               \"quantity\" :int(input(\"enter quantity:\")),\n",
    "#                                               \"Expiry Date\" : input(\"enter expiry date :\"),\n",
    "#                                               \"price\" : int(input(\"enter price :\")),\n",
    "#                                               \"Rating\" : input(\"enter ratings: \"),\n",
    "#                                               \"Warranty\" : \"{} months\".format(int(input(\"enter warranty in months: \")))\n",
    "#                                              }\n",
    "#    print(\"*********\")"
   ]
  },
  {
   "cell_type": "markdown",
   "id": "1d8e1d0c",
   "metadata": {},
   "source": [
    "# Loading Products dictionary to get inventory "
   ]
  },
  {
   "cell_type": "code",
   "execution_count": 1,
   "id": "1d6f0ba8",
   "metadata": {},
   "outputs": [],
   "source": [
    "import json\n",
    "fd = open(\"Product Record.json\",\"r\")\n",
    "txt = fd.read()\n",
    "products = json.loads(txt)"
   ]
  },
  {
   "cell_type": "markdown",
   "id": "142af073",
   "metadata": {},
   "source": [
    "# Converting dictionary to string using json module"
   ]
  },
  {
   "cell_type": "code",
   "execution_count": 2,
   "id": "57352a93",
   "metadata": {},
   "outputs": [],
   "source": [
    "js = json.dumps(products)   #converting dictionary to string\n",
    "fd = open(\"Product Record.json\" , \"w\")\n",
    "fd.write(js)\n",
    "fd.close()"
   ]
  },
  {
   "cell_type": "markdown",
   "id": "ebc8d9e2",
   "metadata": {},
   "source": [
    "# Display Product Details"
   ]
  },
  {
   "cell_type": "code",
   "execution_count": 3,
   "id": "f265fa7a",
   "metadata": {},
   "outputs": [
    {
     "name": "stdout",
     "output_type": "stream",
     "text": [
      "Product ID:1001 ,Name:Gooday biscuits , Price:20 , Expiry Date:02/04/2022\n",
      "\n",
      "Product ID:1002 ,Name:Tshirt , Price:500 , Expiry Date:No expiry\n",
      "\n",
      "Product ID:1003 ,Name:Cake , Price:15 , Expiry Date:04/03/2021\n",
      "\n",
      "Product ID:1004 ,Name:Laptop , Price:30000 , Expiry Date:No Expiry\n",
      "\n",
      "Product ID:1005 ,Name:Mobile , Price:10000 , Expiry Date:No Expiry\n",
      "\n",
      "Product ID:1006 ,Name:Milk , Price:25 , Expiry Date:08/05/2021\n",
      "\n",
      "Product ID:1007 ,Name:Book , Price:75 , Expiry Date:No Expiry\n",
      "\n",
      "Product ID:1008 ,Name:Medicines , Price:15 , Expiry Date:06/07/2022\n",
      "\n",
      "Product ID:1009 ,Name:soap , Price:40 , Expiry Date:08/09/2023\n",
      "\n",
      "Product ID:1010 ,Name:Shampoo , Price:100 , Expiry Date:05/06/2023\n",
      "\n",
      "Product ID:1011 ,Name:Pan Cake , Price:50 , Expiry Date:02/05/2021\n",
      "\n",
      "Product ID:1012 ,Name:Novels , Price:150 , Expiry Date:No Expiry\n",
      "\n",
      "Product ID:1013 ,Name:Chair , Price:800 , Expiry Date:No Expiry\n",
      "\n",
      "Product ID:1014 ,Name:Bed , Price:5000 , Expiry Date:No Expiry\n",
      "\n",
      "Product ID:1015 ,Name:Bag , Price:1000 , Expiry Date:No Expiry\n",
      "\n",
      "Product ID:1016 ,Name:Rice , Price:50 , Expiry Date:12/12/2023\n",
      "\n",
      "Product ID:1017 ,Name:Blanket , Price:500 , Expiry Date:No Expiry\n",
      "\n",
      "Product ID:1018 ,Name:Shuttle Bats , Price:500 , Expiry Date:No Expiry\n",
      "\n",
      "Product ID:1019 ,Name:AC , Price:25000 , Expiry Date:No Expiry\n",
      "\n",
      "Product ID:1020 ,Name:Pillow , Price:100 , Expiry Date:No Expiry\n",
      "\n",
      "Product ID:1021 ,Name:Clips , Price:20 , Expiry Date:No Expiry\n",
      "\n",
      "Product ID:1023 ,Name:Plants , Price:80 , Expiry Date:05/05/2022\n",
      "\n",
      "Product ID:1024 ,Name:Water Bottle , Price:20 , Expiry Date:12/12/2021\n",
      "\n",
      "Product ID:1025 ,Name:Charger , Price:1000 , Expiry Date:05/06/2025\n",
      "\n",
      "Product ID:1026 ,Name:Fan , Price:500 , Expiry Date:No Expiry\n",
      "\n",
      "Product ID:1027 ,Name:TubeLights , Price:250 , Expiry Date:02/04/2022\n",
      "\n",
      "Product ID:1028 ,Name:Pens , Price:10 , Expiry Date:No Expiry\n",
      "\n",
      "Product ID:1029 ,Name:Pants , Price:500 , Expiry Date:No Expiry\n",
      "\n",
      "Product ID:1030 ,Name:mobile case , Price:100 , Expiry Date:No Expiry\n",
      "\n",
      "Product ID:1031 ,Name:Bowls , Price:30 , Expiry Date:No Expiry\n",
      "\n",
      "Product ID:1032 ,Name:Tooth Paste , Price:25 , Expiry Date:06/02/2022\n",
      "\n",
      "Product ID:1033 ,Name:Cool Drinks , Price:20 , Expiry Date:08/06/2021\n",
      "\n",
      "Product ID:1034 ,Name:TV , Price:40000 , Expiry Date:No Expiry\n",
      "\n",
      "Product ID:1035 ,Name:Sweets , Price:50 , Expiry Date:08/07/2021\n",
      "\n",
      "Product ID:1036 ,Name:Creams , Price:30 , Expiry Date:09/08/2022\n",
      "\n"
     ]
    }
   ],
   "source": [
    "def display_product_details() :\n",
    "    products_list = list(products.values())\n",
    "    products_id = list(products.keys())\n",
    "    i = 0\n",
    "    for item in products_list :\n",
    "        display_format = \"Product ID:{} ,Name:{} , Price:{} , Expiry Date:{}\".format(products_id[i],item[\"name\"],item[\"price\"],item[\"Expiry Date\"])\n",
    "        print(display_format)\n",
    "        print()\n",
    "        i += 1 \n",
    "display_product_details()"
   ]
  },
  {
   "cell_type": "markdown",
   "id": "33062dbb",
   "metadata": {},
   "source": [
    "# Purchase Produts Here "
   ]
  },
  {
   "cell_type": "code",
   "execution_count": 6,
   "id": "01767a2c",
   "metadata": {},
   "outputs": [
    {
     "name": "stdout",
     "output_type": "stream",
     "text": [
      "*****************************************\n",
      "Purchase Details:\n",
      "Name: Mobile\n",
      "Price: 10000\n",
      "Quantity: 40\n",
      "Expiry Date: No Expiry\n",
      "Rating: 4.5\n",
      "Warranty: 24 months months\n",
      "Bill Amount: 400000\n",
      "Thanks for purchasing....\n",
      "*****************************************\n",
      "***********************************\n",
      "Thank You Visit Again\n"
     ]
    }
   ],
   "source": [
    "import json\n",
    "from datetime import datetime\n",
    "\n",
    "#converting string to dictionary\n",
    "fd = open(\"Product Record.json\",\"r\")\n",
    "txt = fd.read()\n",
    "js = json.loads(txt)\n",
    "fd.close()\n",
    "\n",
    "user_id = input(\"enter product id :\")\n",
    "user_quantity = int(input(\"enter quantity: \"))\n",
    "\n",
    "if user_quantity > products[user_id][\"quantity\"] :    #if required no.of items are not available in Product Record.json file\n",
    "    print(\"**************************************************************************\")\n",
    "    print(\"We are Sorry We are not having {} {} in our store\".format(user_quantity,products[user_id][\"name\"]))\n",
    "        \n",
    "else :        #purchase details\n",
    "    print(\"*****************************************\")\n",
    "    print(\"Purchase Details:\")\n",
    "    print(\"Name: {}\".format(products[user_id][\"name\"]))\n",
    "    print(\"Price: {}\".format(products[user_id][\"price\"]))\n",
    "    print(\"Quantity: {}\".format(user_quantity))\n",
    "    print(\"Expiry Date: {}\".format(products[user_id][\"Expiry Date\"]))\n",
    "    print(\"Rating: {}\".format(products[user_id][\"Rating\"]))\n",
    "    print(\"Warranty: {} months\".format(products[user_id][\"Warranty\"]))\n",
    "    Bill_amount = (products[user_id][\"price\"] * user_quantity)\n",
    "    print(\"Bill Amount: {}\".format(Bill_amount))\n",
    "    print(\"Thanks for purchasing....\")\n",
    "    print(\"*****************************************\")\n",
    "        \n",
    "        \n",
    "        \n",
    "    updated_quantity = products[user_id][\"quantity\"] - user_quantity    \n",
    "        \n",
    "    products[user_id][\"quantity\"] = updated_quantity    #updating items after purchase in Product Record.json file\n",
    "    \n",
    "    #converting dictionary to string\n",
    "    js = json.dumps(products)\n",
    "    fd = open(\"Product Record.json\",\"w\")\n",
    "    fd.write(js)\n",
    "    fd.close()\n",
    "\n",
    "    # customer details\n",
    "    display_message = int(input(\"If you can you provide your name and phone number , type 1 , else 0: \")) \n",
    "    if display_message == 1 :\n",
    "        print(\"***********************************\")\n",
    "        name_of_customer = input(\"Enter your name:\")\n",
    "        phone_number_of_customer = int(input(\"enter your phone number: \"))\n",
    "        print(\"Thank You Visit Again\")\n",
    "        \n",
    "        #Adding purchase details with customer details to sales.txt file\n",
    "        sales_file = open(\"Sales.txt\",\"a\")\n",
    "        \n",
    "        name = \"name: {}\".format(name_of_customer)\n",
    "        phone = \"phone no: {}\".format(phone_number_of_customer)\n",
    "        prod_id = \"Product ID: {}\".format(user_id)\n",
    "        product = \"Product :{}\".format(products[user_id][\"name\"])\n",
    "        price = \"Price: {}\".format(products[user_id][\"price\"])\n",
    "        quantity = \"Quantity: {}\".format(user_quantity)\n",
    "        amount = \"Bill Amount: {}\".format(Bill_amount)\n",
    "        \n",
    "        sales_file.write(name + \"\\n\" + phone + \"\\n\" + prod_id + \"\\n\" + product + \"\\n\" + price + \"\\n\" + quantity + \"\\n\")\n",
    "        sales_file.write(amount + \"\\n\")\n",
    "        date_time = str(datetime.now())\n",
    "        sales_file.write(date_time + \"\\n\" + \"\\n\")\n",
    "        sales_file.close()\n",
    "        \n",
    "    else :\n",
    "        #Adding purchase details without customer details\n",
    "        sales_file = open(\"Sales.txt\",\"a\")\n",
    "        \n",
    "        prod_id = \"Product ID: {}\".format(user_id)\n",
    "        product = \"Product :{}\".format(products[user_id][\"name\"])\n",
    "        price = \"Price: {}\".format(products[user_id][\"price\"])\n",
    "        quantity = \"Quantity: {}\".format(user_quantity)\n",
    "        amount = \"Bill Amount: {}\".format(Bill_amount)\n",
    "        \n",
    "        sales_file.write(prod_id + \"\\n\" + product + \"\\n\" + price + \"\\n\" + quantity + \"\\n\")\n",
    "        sales_file.write(amount + \"\\n\")\n",
    "        date_time = str(datetime.now()) #creating datetime object and type casting to string\n",
    "        sales_file.write(date_time + \"\\n\" + \"\\n\")\n",
    "        sales_file.close()\n",
    "        \n",
    "        print(\"Thank You Visit Again\")"
   ]
  },
  {
   "cell_type": "code",
   "execution_count": null,
   "id": "e0c45df4",
   "metadata": {},
   "outputs": [],
   "source": []
  }
 ],
 "metadata": {
  "kernelspec": {
   "display_name": "Python 3",
   "language": "python",
   "name": "python3"
  },
  "language_info": {
   "codemirror_mode": {
    "name": "ipython",
    "version": 3
   },
   "file_extension": ".py",
   "mimetype": "text/x-python",
   "name": "python",
   "nbconvert_exporter": "python",
   "pygments_lexer": "ipython3",
   "version": "3.9.13"
  }
 },
 "nbformat": 4,
 "nbformat_minor": 5
}
